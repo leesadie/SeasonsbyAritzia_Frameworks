{
  "nbformat": 4,
  "nbformat_minor": 0,
  "metadata": {
    "colab": {
      "provenance": []
    },
    "kernelspec": {
      "name": "python3",
      "display_name": "Python 3"
    },
    "language_info": {
      "name": "python"
    }
  },
  "cells": [
    {
      "cell_type": "markdown",
      "source": [
        "# Seasons by Aritzia"
      ],
      "metadata": {
        "id": "cHXGA9VzM92R"
      }
    },
    {
      "cell_type": "markdown",
      "source": [
        "## 1. Skin Detection from Image"
      ],
      "metadata": {
        "id": "a1lybUbU5fCm"
      }
    },
    {
      "cell_type": "code",
      "source": [
        "from numpy.core.memmap import uint8\n",
        "import cv2\n",
        "import numpy as np\n",
        "\n",
        "min_range = np.array([0,133,77]np.uint8)\n",
        "max_range = np.array([235,173,127],np.uint8)\n",
        "image = cv2.imread(\"image_50.png\")"
      ],
      "metadata": {
        "id": "9a78VL052yvt"
      },
      "execution_count": null,
      "outputs": []
    },
    {
      "cell_type": "code",
      "source": [
        "YCRimage = cv2.cvtColor(image,cv2.COLOR_BGR2YCR_CB)\n",
        "skin_area = cv2.inRange(YCRimage,min_range,max_range)\n",
        "detected_skin = cv2.bitwise_and(image, image, mask = skin_area)"
      ],
      "metadata": {
        "id": "IqOB9qOc4CLf"
      },
      "execution_count": null,
      "outputs": []
    },
    {
      "cell_type": "code",
      "source": [
        "cv2.imwrite(\"C:\\\\Users\\\\sadie\\\\Pictures\\\\detectedImage.png\", \n",
        "            np.hstack([image,detected_skin]))"
      ],
      "metadata": {
        "colab": {
          "base_uri": "https://localhost:8080/"
        },
        "id": "V-TG0Bs24dDd",
        "outputId": "3a08e924-8a6b-4337-e2c3-6ce369d90225"
      },
      "execution_count": null,
      "outputs": [
        {
          "output_type": "execute_result",
          "data": {
            "text/plain": [
              "True"
            ]
          },
          "metadata": {},
          "execution_count": 7
        }
      ]
    },
    {
      "cell_type": "markdown",
      "source": [
        "## 2. Face Detection from Webcam"
      ],
      "metadata": {
        "id": "Dx3vHjj167jN"
      }
    },
    {
      "cell_type": "code",
      "source": [
        "import cv2\n",
        "import sys\n",
        "cascPath = sys.argv[1]\n",
        "faceCascade = cv2.CascadeClassifier(cascPath)\n",
        "video_capture = cv2.VideoCapture(0)\n",
        "while True:\n",
        "    ret, frame = video_capture.read()\n",
        "    gray = cv2.cvtColor(frame, cv2.COLOR_BGR2GRAY)\n",
        "    faces = faceCascade.detectMultiScale(\n",
        "        gray,\n",
        "        scaleFactor=1.1,\n",
        "        minNeighbors=5,\n",
        "        minSize=(30, 30),\n",
        "        flags=cv2.cv.CV_HAAR_SCALE_IMAGE\n",
        "    )\n",
        "\n",
        "    for (x, y, w, h) in faces:\n",
        "        cv2.rectangle(frame, (x, y), (x+w, y+h), (0, 255, 0), 2)\n",
        "\n",
        "    cv2.imshow('Video', frame)\n",
        "    if cv2.waitKey(1) & 0xFF == ord('q'):\n",
        "        break\n",
        "\n",
        "video_capture.release()\n",
        "cv2.destroyAllWindows()"
      ],
      "metadata": {
        "id": "oVr06f8R69Q0"
      },
      "execution_count": null,
      "outputs": []
    },
    {
      "cell_type": "markdown",
      "source": [
        "## 3. Skin Detection from Webcam\n",
        "\n",
        "We modified the code from https://github.com/SamSamhuns/color_matching_and_skin_detection to increase both our and the judges' understanding of the product's intent. Code was modified instead of completed from scratch given our time and experience constraints."
      ],
      "metadata": {
        "id": "edPXGl1J7-Xb"
      }
    },
    {
      "cell_type": "markdown",
      "source": [
        "### a. Skin Detection following Face Detection in Webcam"
      ],
      "metadata": {
        "id": "oZmxzaS2Ql0Z"
      }
    },
    {
      "cell_type": "code",
      "source": [
        "import numpy as np\n",
        "import argparse\n",
        "import cv2\n",
        "\n",
        "def detect_and_display_skin(vid_src):\n",
        "    cap = cv2.VideoCapture(vid_src)\n",
        "\n",
        "    min_YCrCb = np.array([0, 133, 77], np.uint8)\n",
        "    max_YCrCb = np.array([235, 173, 127], np.uint8)\n",
        "    while(True):\n",
        "        _, frame = cap.read()\n",
        "        frame = cv2.flip(frame, 1)\n",
        "\n",
        "        YCrCb_converted = cv2.cvtColor(frame, cv2.COLOR_BGR2YCR_CB)\n",
        "        skinMask = cv2.inRange(YCrCb_converted, min_YCrCb, max_YCrCb)\n",
        "\n",
        "        kernel = cv2.getStructuringElement(cv2.MORPH_ELLIPSE, (11, 11))\n",
        "        skinMask = cv2.erode(skinMask, kernel, iterations=2)\n",
        "        skinMask = cv2.dilate(skinMask, kernel, iterations=2)\n",
        "        skinMask = cv2.GaussianBlur(skinMask, (3, 3), 0)\n",
        "        skin = cv2.bitwise_and(frame, frame, mask=skinMask)\n",
        "\n",
        "        skin[np.where((skin != [0, 0, 0]).all(axis=2))] = [255, 255, 255]\n",
        "        cv2.imshow('orig', frame)\n",
        "        cv2.imshow('detected', skin)\n",
        "        cv2.moveWindow('detected', skin.shape[1], 0)\n",
        "\n",
        "    # When everything done, release the capture\n",
        "    cap.release()\n",
        "    cv2.destroyAllWindows()"
      ],
      "metadata": {
        "id": "hV38UBmLP0da"
      },
      "execution_count": 2,
      "outputs": []
    },
    {
      "cell_type": "markdown",
      "source": [
        "### b. Skin Tone Detection by Color Matching with Thresholds"
      ],
      "metadata": {
        "id": "5-sIyMjUQ3SR"
      }
    },
    {
      "cell_type": "code",
      "source": [
        "import cv2\n",
        "import argparse\n",
        "import numpy as np\n",
        "\n",
        "\n",
        "def nothing(x):\n",
        "    pass\n",
        "\n",
        "def hsv_threshold_picker(img_path, wait_time=33, mask_val=255):\n",
        "    \"\"\"\n",
        "    params:\n",
        "        img_src: path to image\n",
        "        wait_time: cv2.waitKey time, set 30 for Osx\n",
        "        mask_val: bit value of masked bits, 0=black, 255=white\n",
        "    \"\"\"\n",
        "    image = cv2.imread(img_path)\n",
        "    output = image\n",
        "\n",
        "    cv2.namedWindow('image')\n",
        "\n",
        "    cv2.createTrackbar('Hue Min', 'image', 0, 179, nothing)\n",
        "    cv2.createTrackbar('Sat Min', 'image', 0, 255, nothing)\n",
        "    cv2.createTrackbar('Val Min', 'image', 0, 255, nothing)\n",
        "\n",
        "    cv2.createTrackbar('Hue Max', 'image', 0, 179, nothing)\n",
        "    cv2.createTrackbar('Sat Max', 'image', 0, 255, nothing)\n",
        "    cv2.createTrackbar('Val Max', 'image', 0, 255, nothing)\n",
        "\n",
        "    cv2.setTrackbarPos('Hue Max', 'image', 179)\n",
        "    cv2.setTrackbarPos('Sat Max', 'image', 255)\n",
        "    cv2.setTrackbarPos('Val Max', 'image', 255)\n",
        "\n",
        "    hMin = sMin = vMin = hMax = sMax = vMax = 0\n",
        "    phMin = psMin = pvMin = phMax = psMax = pvMax = 0\n",
        "\n",
        "    while(1):\n",
        "        hMin = cv2.getTrackbarPos('Hue Min', 'image')\n",
        "        sMin = cv2.getTrackbarPos('Sat Min', 'image')\n",
        "        vMin = cv2.getTrackbarPos('Val Min', 'image')\n",
        "\n",
        "        hMax = cv2.getTrackbarPos('Hue Max', 'image')\n",
        "        sMax = cv2.getTrackbarPos('Sat Max', 'image')\n",
        "        vMax = cv2.getTrackbarPos('Val Max', 'image')\n",
        "\n",
        "        lower = np.array([hMin, sMin, vMin])\n",
        "        upper = np.array([hMax, sMax, vMax])\n",
        "\n",
        "        hsv = cv2.cvtColor(image, cv2.COLOR_BGR2HSV)\n",
        "        mask = cv2.inRange(hsv, lower, upper)\n",
        "        output = cv2.bitwise_and(image, image, mask=mask)\n",
        "\n",
        "        output[output == 0] = mask_val\n",
        "\n",
        "        cv2.imshow('image', output)\n",
        "        cv2.imshow('original', image)\n",
        "\n",
        "        if cv2.waitKey(wait_time) & 0xFF == ord('q'):\n",
        "            break\n",
        "\n",
        "    cv2.destroyAllWindows()"
      ],
      "metadata": {
        "id": "HFmWBZN0RVLb"
      },
      "execution_count": 3,
      "outputs": []
    },
    {
      "cell_type": "markdown",
      "source": [
        "### c. Skin Tone Detection with Webcam"
      ],
      "metadata": {
        "id": "Rqm_AtkDRjvS"
      }
    },
    {
      "cell_type": "code",
      "source": [
        "import numpy as np\n",
        "import argparse\n",
        "import cv2\n",
        "\n",
        "\n",
        "def detect_color_in_hsv(video_src, min_HSV, max_HSV):\n",
        "    \"\"\"\n",
        "    params:\n",
        "        video_src: path to video or 0 for webcam\n",
        "        min_HSV: Lower boundary of HSV color space\n",
        "        max_HSV: Upper boundary of HSV color space\n",
        "    \"\"\"\n",
        "    video_src = 0 if video_src is None else video_src\n",
        "    cap = cv2.VideoCapture(video_src)\n",
        "\n",
        "    while(True):\n",
        "        _, frame = cap.read()\n",
        "        frame = cv2.flip(frame, 1)\n",
        "\n",
        "        HSV_converted = cv2.cvtColor(frame, cv2.COLOR_BGR2HSV)\n",
        "        color_mask = cv2.inRange(HSV_converted, min_HSV, max_HSV)\n",
        "\n",
        "        kernel = cv2.getStructuringElement(cv2.MORPH_ELLIPSE, (11, 11))\n",
        "        color_mask = cv2.erode(color_mask, kernel, iterations=2)\n",
        "        color_mask = cv2.dilate(color_mask, kernel, iterations=2)\n",
        "        color_mask = cv2.GaussianBlur(color_mask, (3, 3), 0)\n",
        "        det_color = cv2.bitwise_and(frame, frame, mask=color_mask)\n",
        "\n",
        "        det_color[np.where((det_color != [0, 0, 0]).all(axis=2))] = [\n",
        "            255, 255, 255]\n",
        "        cv2.imshow('detected', det_color)\n",
        "        cv2.imshow('orig', frame)\n",
        "        cv2.moveWindow('detected', 0, det_color.shape[0] - 120)\n",
        "\n",
        "        if cv2.waitKey(20) & 0xFF == ord('q'):\n",
        "            break\n",
        "\n",
        "    cap.release()\n",
        "    cv2.destroyAllWindows()"
      ],
      "metadata": {
        "id": "cECoD0OJSi09"
      },
      "execution_count": 7,
      "outputs": []
    },
    {
      "cell_type": "markdown",
      "source": [
        "## 4. Using Machine Learning to Generate Color Palettes & Product Recommendations from Skin Color"
      ],
      "metadata": {
        "id": "WJOBe6Ck_LI3"
      }
    },
    {
      "cell_type": "code",
      "source": [
        "import pandas as pd\n",
        "import numpy as np"
      ],
      "metadata": {
        "id": "x-O9zE5-_Peb"
      },
      "execution_count": 11,
      "outputs": []
    },
    {
      "cell_type": "code",
      "source": [
        "np.random.seed(1234)"
      ],
      "metadata": {
        "id": "sDs6Kpd2TiE5"
      },
      "execution_count": 26,
      "outputs": []
    },
    {
      "cell_type": "code",
      "source": [
        "training_data1 = pd.read_csv(\"training_data1.csv\")\n",
        "training_data2 = pd.read_csv(\"training_data2.csv\")\n",
        "training_data3 = pd.read_csv(\"training_data3.csv\")\n",
        "\n",
        "training_data1.head(10)"
      ],
      "metadata": {
        "colab": {
          "base_uri": "https://localhost:8080/",
          "height": 363
        },
        "id": "nzDWukMiABw1",
        "outputId": "85598b0a-38a7-4d94-e2fe-31c1b05cc601"
      },
      "execution_count": 12,
      "outputs": [
        {
          "output_type": "execute_result",
          "data": {
            "text/plain": [
              "  image_name skin_color\n",
              "0   IMG_0001     e9d7cf\n",
              "1   IMG_0002     ecd9cb\n",
              "2   IMG_0003     e4dcd7\n",
              "3   IMG_0004     f1dbce\n",
              "4   IMG_0005     e6cbb7\n",
              "5   IMG_0006     f1d9cd\n",
              "6   IMG_0007     f0cdbb\n",
              "7   IMG_0008     eedbd4\n",
              "8   IMG_0009     e5cbbe\n",
              "9   IMG_0010     ebcfce"
            ],
            "text/html": [
              "\n",
              "  <div id=\"df-3d6dc32a-7813-49b5-9013-e88cbee806e2\">\n",
              "    <div class=\"colab-df-container\">\n",
              "      <div>\n",
              "<style scoped>\n",
              "    .dataframe tbody tr th:only-of-type {\n",
              "        vertical-align: middle;\n",
              "    }\n",
              "\n",
              "    .dataframe tbody tr th {\n",
              "        vertical-align: top;\n",
              "    }\n",
              "\n",
              "    .dataframe thead th {\n",
              "        text-align: right;\n",
              "    }\n",
              "</style>\n",
              "<table border=\"1\" class=\"dataframe\">\n",
              "  <thead>\n",
              "    <tr style=\"text-align: right;\">\n",
              "      <th></th>\n",
              "      <th>image_name</th>\n",
              "      <th>skin_color</th>\n",
              "    </tr>\n",
              "  </thead>\n",
              "  <tbody>\n",
              "    <tr>\n",
              "      <th>0</th>\n",
              "      <td>IMG_0001</td>\n",
              "      <td>e9d7cf</td>\n",
              "    </tr>\n",
              "    <tr>\n",
              "      <th>1</th>\n",
              "      <td>IMG_0002</td>\n",
              "      <td>ecd9cb</td>\n",
              "    </tr>\n",
              "    <tr>\n",
              "      <th>2</th>\n",
              "      <td>IMG_0003</td>\n",
              "      <td>e4dcd7</td>\n",
              "    </tr>\n",
              "    <tr>\n",
              "      <th>3</th>\n",
              "      <td>IMG_0004</td>\n",
              "      <td>f1dbce</td>\n",
              "    </tr>\n",
              "    <tr>\n",
              "      <th>4</th>\n",
              "      <td>IMG_0005</td>\n",
              "      <td>e6cbb7</td>\n",
              "    </tr>\n",
              "    <tr>\n",
              "      <th>5</th>\n",
              "      <td>IMG_0006</td>\n",
              "      <td>f1d9cd</td>\n",
              "    </tr>\n",
              "    <tr>\n",
              "      <th>6</th>\n",
              "      <td>IMG_0007</td>\n",
              "      <td>f0cdbb</td>\n",
              "    </tr>\n",
              "    <tr>\n",
              "      <th>7</th>\n",
              "      <td>IMG_0008</td>\n",
              "      <td>eedbd4</td>\n",
              "    </tr>\n",
              "    <tr>\n",
              "      <th>8</th>\n",
              "      <td>IMG_0009</td>\n",
              "      <td>e5cbbe</td>\n",
              "    </tr>\n",
              "    <tr>\n",
              "      <th>9</th>\n",
              "      <td>IMG_0010</td>\n",
              "      <td>ebcfce</td>\n",
              "    </tr>\n",
              "  </tbody>\n",
              "</table>\n",
              "</div>\n",
              "      <button class=\"colab-df-convert\" onclick=\"convertToInteractive('df-3d6dc32a-7813-49b5-9013-e88cbee806e2')\"\n",
              "              title=\"Convert this dataframe to an interactive table.\"\n",
              "              style=\"display:none;\">\n",
              "        \n",
              "  <svg xmlns=\"http://www.w3.org/2000/svg\" height=\"24px\"viewBox=\"0 0 24 24\"\n",
              "       width=\"24px\">\n",
              "    <path d=\"M0 0h24v24H0V0z\" fill=\"none\"/>\n",
              "    <path d=\"M18.56 5.44l.94 2.06.94-2.06 2.06-.94-2.06-.94-.94-2.06-.94 2.06-2.06.94zm-11 1L8.5 8.5l.94-2.06 2.06-.94-2.06-.94L8.5 2.5l-.94 2.06-2.06.94zm10 10l.94 2.06.94-2.06 2.06-.94-2.06-.94-.94-2.06-.94 2.06-2.06.94z\"/><path d=\"M17.41 7.96l-1.37-1.37c-.4-.4-.92-.59-1.43-.59-.52 0-1.04.2-1.43.59L10.3 9.45l-7.72 7.72c-.78.78-.78 2.05 0 2.83L4 21.41c.39.39.9.59 1.41.59.51 0 1.02-.2 1.41-.59l7.78-7.78 2.81-2.81c.8-.78.8-2.07 0-2.86zM5.41 20L4 18.59l7.72-7.72 1.47 1.35L5.41 20z\"/>\n",
              "  </svg>\n",
              "      </button>\n",
              "      \n",
              "  <style>\n",
              "    .colab-df-container {\n",
              "      display:flex;\n",
              "      flex-wrap:wrap;\n",
              "      gap: 12px;\n",
              "    }\n",
              "\n",
              "    .colab-df-convert {\n",
              "      background-color: #E8F0FE;\n",
              "      border: none;\n",
              "      border-radius: 50%;\n",
              "      cursor: pointer;\n",
              "      display: none;\n",
              "      fill: #1967D2;\n",
              "      height: 32px;\n",
              "      padding: 0 0 0 0;\n",
              "      width: 32px;\n",
              "    }\n",
              "\n",
              "    .colab-df-convert:hover {\n",
              "      background-color: #E2EBFA;\n",
              "      box-shadow: 0px 1px 2px rgba(60, 64, 67, 0.3), 0px 1px 3px 1px rgba(60, 64, 67, 0.15);\n",
              "      fill: #174EA6;\n",
              "    }\n",
              "\n",
              "    [theme=dark] .colab-df-convert {\n",
              "      background-color: #3B4455;\n",
              "      fill: #D2E3FC;\n",
              "    }\n",
              "\n",
              "    [theme=dark] .colab-df-convert:hover {\n",
              "      background-color: #434B5C;\n",
              "      box-shadow: 0px 1px 3px 1px rgba(0, 0, 0, 0.15);\n",
              "      filter: drop-shadow(0px 1px 2px rgba(0, 0, 0, 0.3));\n",
              "      fill: #FFFFFF;\n",
              "    }\n",
              "  </style>\n",
              "\n",
              "      <script>\n",
              "        const buttonEl =\n",
              "          document.querySelector('#df-3d6dc32a-7813-49b5-9013-e88cbee806e2 button.colab-df-convert');\n",
              "        buttonEl.style.display =\n",
              "          google.colab.kernel.accessAllowed ? 'block' : 'none';\n",
              "\n",
              "        async function convertToInteractive(key) {\n",
              "          const element = document.querySelector('#df-3d6dc32a-7813-49b5-9013-e88cbee806e2');\n",
              "          const dataTable =\n",
              "            await google.colab.kernel.invokeFunction('convertToInteractive',\n",
              "                                                     [key], {});\n",
              "          if (!dataTable) return;\n",
              "\n",
              "          const docLinkHtml = 'Like what you see? Visit the ' +\n",
              "            '<a target=\"_blank\" href=https://colab.research.google.com/notebooks/data_table.ipynb>data table notebook</a>'\n",
              "            + ' to learn more about interactive tables.';\n",
              "          element.innerHTML = '';\n",
              "          dataTable['output_type'] = 'display_data';\n",
              "          await google.colab.output.renderOutput(dataTable, element);\n",
              "          const docLink = document.createElement('div');\n",
              "          docLink.innerHTML = docLinkHtml;\n",
              "          element.appendChild(docLink);\n",
              "        }\n",
              "      </script>\n",
              "    </div>\n",
              "  </div>\n",
              "  "
            ]
          },
          "metadata": {},
          "execution_count": 12
        }
      ]
    },
    {
      "cell_type": "code",
      "source": [
        "training_data2.head(10)"
      ],
      "metadata": {
        "colab": {
          "base_uri": "https://localhost:8080/",
          "height": 363
        },
        "id": "P5VmoECnMGFu",
        "outputId": "1d236545-de7a-4dc2-8c7f-833d37e1126f"
      },
      "execution_count": 13,
      "outputs": [
        {
          "output_type": "execute_result",
          "data": {
            "text/plain": [
              "  skin_color        season\n",
              "0     e9d7cf  light_summer\n",
              "1     ecd9cb  light_spring\n",
              "2     e4dcd7  light_summer\n",
              "3     f1dbce  light_spring\n",
              "4     e6cbb7   dark autumn\n",
              "5     f1d9cd   soft_summer\n",
              "6     f0cdbb   true_winter\n",
              "7     eedbd4   true_spring\n",
              "8     e5cbbe   true_winter\n",
              "9     ebcfce   soft_summer"
            ],
            "text/html": [
              "\n",
              "  <div id=\"df-ba94260b-0b0b-4d98-93fb-6b4c217e7a55\">\n",
              "    <div class=\"colab-df-container\">\n",
              "      <div>\n",
              "<style scoped>\n",
              "    .dataframe tbody tr th:only-of-type {\n",
              "        vertical-align: middle;\n",
              "    }\n",
              "\n",
              "    .dataframe tbody tr th {\n",
              "        vertical-align: top;\n",
              "    }\n",
              "\n",
              "    .dataframe thead th {\n",
              "        text-align: right;\n",
              "    }\n",
              "</style>\n",
              "<table border=\"1\" class=\"dataframe\">\n",
              "  <thead>\n",
              "    <tr style=\"text-align: right;\">\n",
              "      <th></th>\n",
              "      <th>skin_color</th>\n",
              "      <th>season</th>\n",
              "    </tr>\n",
              "  </thead>\n",
              "  <tbody>\n",
              "    <tr>\n",
              "      <th>0</th>\n",
              "      <td>e9d7cf</td>\n",
              "      <td>light_summer</td>\n",
              "    </tr>\n",
              "    <tr>\n",
              "      <th>1</th>\n",
              "      <td>ecd9cb</td>\n",
              "      <td>light_spring</td>\n",
              "    </tr>\n",
              "    <tr>\n",
              "      <th>2</th>\n",
              "      <td>e4dcd7</td>\n",
              "      <td>light_summer</td>\n",
              "    </tr>\n",
              "    <tr>\n",
              "      <th>3</th>\n",
              "      <td>f1dbce</td>\n",
              "      <td>light_spring</td>\n",
              "    </tr>\n",
              "    <tr>\n",
              "      <th>4</th>\n",
              "      <td>e6cbb7</td>\n",
              "      <td>dark autumn</td>\n",
              "    </tr>\n",
              "    <tr>\n",
              "      <th>5</th>\n",
              "      <td>f1d9cd</td>\n",
              "      <td>soft_summer</td>\n",
              "    </tr>\n",
              "    <tr>\n",
              "      <th>6</th>\n",
              "      <td>f0cdbb</td>\n",
              "      <td>true_winter</td>\n",
              "    </tr>\n",
              "    <tr>\n",
              "      <th>7</th>\n",
              "      <td>eedbd4</td>\n",
              "      <td>true_spring</td>\n",
              "    </tr>\n",
              "    <tr>\n",
              "      <th>8</th>\n",
              "      <td>e5cbbe</td>\n",
              "      <td>true_winter</td>\n",
              "    </tr>\n",
              "    <tr>\n",
              "      <th>9</th>\n",
              "      <td>ebcfce</td>\n",
              "      <td>soft_summer</td>\n",
              "    </tr>\n",
              "  </tbody>\n",
              "</table>\n",
              "</div>\n",
              "      <button class=\"colab-df-convert\" onclick=\"convertToInteractive('df-ba94260b-0b0b-4d98-93fb-6b4c217e7a55')\"\n",
              "              title=\"Convert this dataframe to an interactive table.\"\n",
              "              style=\"display:none;\">\n",
              "        \n",
              "  <svg xmlns=\"http://www.w3.org/2000/svg\" height=\"24px\"viewBox=\"0 0 24 24\"\n",
              "       width=\"24px\">\n",
              "    <path d=\"M0 0h24v24H0V0z\" fill=\"none\"/>\n",
              "    <path d=\"M18.56 5.44l.94 2.06.94-2.06 2.06-.94-2.06-.94-.94-2.06-.94 2.06-2.06.94zm-11 1L8.5 8.5l.94-2.06 2.06-.94-2.06-.94L8.5 2.5l-.94 2.06-2.06.94zm10 10l.94 2.06.94-2.06 2.06-.94-2.06-.94-.94-2.06-.94 2.06-2.06.94z\"/><path d=\"M17.41 7.96l-1.37-1.37c-.4-.4-.92-.59-1.43-.59-.52 0-1.04.2-1.43.59L10.3 9.45l-7.72 7.72c-.78.78-.78 2.05 0 2.83L4 21.41c.39.39.9.59 1.41.59.51 0 1.02-.2 1.41-.59l7.78-7.78 2.81-2.81c.8-.78.8-2.07 0-2.86zM5.41 20L4 18.59l7.72-7.72 1.47 1.35L5.41 20z\"/>\n",
              "  </svg>\n",
              "      </button>\n",
              "      \n",
              "  <style>\n",
              "    .colab-df-container {\n",
              "      display:flex;\n",
              "      flex-wrap:wrap;\n",
              "      gap: 12px;\n",
              "    }\n",
              "\n",
              "    .colab-df-convert {\n",
              "      background-color: #E8F0FE;\n",
              "      border: none;\n",
              "      border-radius: 50%;\n",
              "      cursor: pointer;\n",
              "      display: none;\n",
              "      fill: #1967D2;\n",
              "      height: 32px;\n",
              "      padding: 0 0 0 0;\n",
              "      width: 32px;\n",
              "    }\n",
              "\n",
              "    .colab-df-convert:hover {\n",
              "      background-color: #E2EBFA;\n",
              "      box-shadow: 0px 1px 2px rgba(60, 64, 67, 0.3), 0px 1px 3px 1px rgba(60, 64, 67, 0.15);\n",
              "      fill: #174EA6;\n",
              "    }\n",
              "\n",
              "    [theme=dark] .colab-df-convert {\n",
              "      background-color: #3B4455;\n",
              "      fill: #D2E3FC;\n",
              "    }\n",
              "\n",
              "    [theme=dark] .colab-df-convert:hover {\n",
              "      background-color: #434B5C;\n",
              "      box-shadow: 0px 1px 3px 1px rgba(0, 0, 0, 0.15);\n",
              "      filter: drop-shadow(0px 1px 2px rgba(0, 0, 0, 0.3));\n",
              "      fill: #FFFFFF;\n",
              "    }\n",
              "  </style>\n",
              "\n",
              "      <script>\n",
              "        const buttonEl =\n",
              "          document.querySelector('#df-ba94260b-0b0b-4d98-93fb-6b4c217e7a55 button.colab-df-convert');\n",
              "        buttonEl.style.display =\n",
              "          google.colab.kernel.accessAllowed ? 'block' : 'none';\n",
              "\n",
              "        async function convertToInteractive(key) {\n",
              "          const element = document.querySelector('#df-ba94260b-0b0b-4d98-93fb-6b4c217e7a55');\n",
              "          const dataTable =\n",
              "            await google.colab.kernel.invokeFunction('convertToInteractive',\n",
              "                                                     [key], {});\n",
              "          if (!dataTable) return;\n",
              "\n",
              "          const docLinkHtml = 'Like what you see? Visit the ' +\n",
              "            '<a target=\"_blank\" href=https://colab.research.google.com/notebooks/data_table.ipynb>data table notebook</a>'\n",
              "            + ' to learn more about interactive tables.';\n",
              "          element.innerHTML = '';\n",
              "          dataTable['output_type'] = 'display_data';\n",
              "          await google.colab.output.renderOutput(dataTable, element);\n",
              "          const docLink = document.createElement('div');\n",
              "          docLink.innerHTML = docLinkHtml;\n",
              "          element.appendChild(docLink);\n",
              "        }\n",
              "      </script>\n",
              "    </div>\n",
              "  </div>\n",
              "  "
            ]
          },
          "metadata": {},
          "execution_count": 13
        }
      ]
    },
    {
      "cell_type": "code",
      "source": [
        "training_data3.head(10)"
      ],
      "metadata": {
        "colab": {
          "base_uri": "https://localhost:8080/",
          "height": 363
        },
        "id": "AJG61bkKMIqD",
        "outputId": "f24d72a2-cfd7-463c-e4b1-823d86b6f841"
      },
      "execution_count": 14,
      "outputs": [
        {
          "output_type": "execute_result",
          "data": {
            "text/plain": [
              "         season product_color_r\n",
              "0  light_summer            cool\n",
              "1  light_spring            cool\n",
              "2  light_summer            cool\n",
              "3  light_spring            cool\n",
              "4   dark_autumn    dark_neutral\n",
              "5   soft_summer   light_neutral\n",
              "6   true_winter            deep\n",
              "7   true_spring          pastel\n",
              "8   true_winter            deep\n",
              "9   soft_summer   light_neutral"
            ],
            "text/html": [
              "\n",
              "  <div id=\"df-cffae962-2dcc-4acc-bb26-6fd2d3d866b9\">\n",
              "    <div class=\"colab-df-container\">\n",
              "      <div>\n",
              "<style scoped>\n",
              "    .dataframe tbody tr th:only-of-type {\n",
              "        vertical-align: middle;\n",
              "    }\n",
              "\n",
              "    .dataframe tbody tr th {\n",
              "        vertical-align: top;\n",
              "    }\n",
              "\n",
              "    .dataframe thead th {\n",
              "        text-align: right;\n",
              "    }\n",
              "</style>\n",
              "<table border=\"1\" class=\"dataframe\">\n",
              "  <thead>\n",
              "    <tr style=\"text-align: right;\">\n",
              "      <th></th>\n",
              "      <th>season</th>\n",
              "      <th>product_color_r</th>\n",
              "    </tr>\n",
              "  </thead>\n",
              "  <tbody>\n",
              "    <tr>\n",
              "      <th>0</th>\n",
              "      <td>light_summer</td>\n",
              "      <td>cool</td>\n",
              "    </tr>\n",
              "    <tr>\n",
              "      <th>1</th>\n",
              "      <td>light_spring</td>\n",
              "      <td>cool</td>\n",
              "    </tr>\n",
              "    <tr>\n",
              "      <th>2</th>\n",
              "      <td>light_summer</td>\n",
              "      <td>cool</td>\n",
              "    </tr>\n",
              "    <tr>\n",
              "      <th>3</th>\n",
              "      <td>light_spring</td>\n",
              "      <td>cool</td>\n",
              "    </tr>\n",
              "    <tr>\n",
              "      <th>4</th>\n",
              "      <td>dark_autumn</td>\n",
              "      <td>dark_neutral</td>\n",
              "    </tr>\n",
              "    <tr>\n",
              "      <th>5</th>\n",
              "      <td>soft_summer</td>\n",
              "      <td>light_neutral</td>\n",
              "    </tr>\n",
              "    <tr>\n",
              "      <th>6</th>\n",
              "      <td>true_winter</td>\n",
              "      <td>deep</td>\n",
              "    </tr>\n",
              "    <tr>\n",
              "      <th>7</th>\n",
              "      <td>true_spring</td>\n",
              "      <td>pastel</td>\n",
              "    </tr>\n",
              "    <tr>\n",
              "      <th>8</th>\n",
              "      <td>true_winter</td>\n",
              "      <td>deep</td>\n",
              "    </tr>\n",
              "    <tr>\n",
              "      <th>9</th>\n",
              "      <td>soft_summer</td>\n",
              "      <td>light_neutral</td>\n",
              "    </tr>\n",
              "  </tbody>\n",
              "</table>\n",
              "</div>\n",
              "      <button class=\"colab-df-convert\" onclick=\"convertToInteractive('df-cffae962-2dcc-4acc-bb26-6fd2d3d866b9')\"\n",
              "              title=\"Convert this dataframe to an interactive table.\"\n",
              "              style=\"display:none;\">\n",
              "        \n",
              "  <svg xmlns=\"http://www.w3.org/2000/svg\" height=\"24px\"viewBox=\"0 0 24 24\"\n",
              "       width=\"24px\">\n",
              "    <path d=\"M0 0h24v24H0V0z\" fill=\"none\"/>\n",
              "    <path d=\"M18.56 5.44l.94 2.06.94-2.06 2.06-.94-2.06-.94-.94-2.06-.94 2.06-2.06.94zm-11 1L8.5 8.5l.94-2.06 2.06-.94-2.06-.94L8.5 2.5l-.94 2.06-2.06.94zm10 10l.94 2.06.94-2.06 2.06-.94-2.06-.94-.94-2.06-.94 2.06-2.06.94z\"/><path d=\"M17.41 7.96l-1.37-1.37c-.4-.4-.92-.59-1.43-.59-.52 0-1.04.2-1.43.59L10.3 9.45l-7.72 7.72c-.78.78-.78 2.05 0 2.83L4 21.41c.39.39.9.59 1.41.59.51 0 1.02-.2 1.41-.59l7.78-7.78 2.81-2.81c.8-.78.8-2.07 0-2.86zM5.41 20L4 18.59l7.72-7.72 1.47 1.35L5.41 20z\"/>\n",
              "  </svg>\n",
              "      </button>\n",
              "      \n",
              "  <style>\n",
              "    .colab-df-container {\n",
              "      display:flex;\n",
              "      flex-wrap:wrap;\n",
              "      gap: 12px;\n",
              "    }\n",
              "\n",
              "    .colab-df-convert {\n",
              "      background-color: #E8F0FE;\n",
              "      border: none;\n",
              "      border-radius: 50%;\n",
              "      cursor: pointer;\n",
              "      display: none;\n",
              "      fill: #1967D2;\n",
              "      height: 32px;\n",
              "      padding: 0 0 0 0;\n",
              "      width: 32px;\n",
              "    }\n",
              "\n",
              "    .colab-df-convert:hover {\n",
              "      background-color: #E2EBFA;\n",
              "      box-shadow: 0px 1px 2px rgba(60, 64, 67, 0.3), 0px 1px 3px 1px rgba(60, 64, 67, 0.15);\n",
              "      fill: #174EA6;\n",
              "    }\n",
              "\n",
              "    [theme=dark] .colab-df-convert {\n",
              "      background-color: #3B4455;\n",
              "      fill: #D2E3FC;\n",
              "    }\n",
              "\n",
              "    [theme=dark] .colab-df-convert:hover {\n",
              "      background-color: #434B5C;\n",
              "      box-shadow: 0px 1px 3px 1px rgba(0, 0, 0, 0.15);\n",
              "      filter: drop-shadow(0px 1px 2px rgba(0, 0, 0, 0.3));\n",
              "      fill: #FFFFFF;\n",
              "    }\n",
              "  </style>\n",
              "\n",
              "      <script>\n",
              "        const buttonEl =\n",
              "          document.querySelector('#df-cffae962-2dcc-4acc-bb26-6fd2d3d866b9 button.colab-df-convert');\n",
              "        buttonEl.style.display =\n",
              "          google.colab.kernel.accessAllowed ? 'block' : 'none';\n",
              "\n",
              "        async function convertToInteractive(key) {\n",
              "          const element = document.querySelector('#df-cffae962-2dcc-4acc-bb26-6fd2d3d866b9');\n",
              "          const dataTable =\n",
              "            await google.colab.kernel.invokeFunction('convertToInteractive',\n",
              "                                                     [key], {});\n",
              "          if (!dataTable) return;\n",
              "\n",
              "          const docLinkHtml = 'Like what you see? Visit the ' +\n",
              "            '<a target=\"_blank\" href=https://colab.research.google.com/notebooks/data_table.ipynb>data table notebook</a>'\n",
              "            + ' to learn more about interactive tables.';\n",
              "          element.innerHTML = '';\n",
              "          dataTable['output_type'] = 'display_data';\n",
              "          await google.colab.output.renderOutput(dataTable, element);\n",
              "          const docLink = document.createElement('div');\n",
              "          docLink.innerHTML = docLinkHtml;\n",
              "          element.appendChild(docLink);\n",
              "        }\n",
              "      </script>\n",
              "    </div>\n",
              "  </div>\n",
              "  "
            ]
          },
          "metadata": {},
          "execution_count": 14
        }
      ]
    },
    {
      "cell_type": "code",
      "source": [
        "testing_data = pd.read_csv(\"testing_data.csv\")\n",
        "testing_data.head(10)"
      ],
      "metadata": {
        "id": "d8BoIKnsGlcD",
        "colab": {
          "base_uri": "https://localhost:8080/",
          "height": 363
        },
        "outputId": "0ae5882b-8765-4ae2-d19f-5901d19e9d14"
      },
      "execution_count": 17,
      "outputs": [
        {
          "output_type": "execute_result",
          "data": {
            "text/plain": [
              "  image_name skin_color\n",
              "0   IMG_0001     e7cfc7\n",
              "1   IMG_0002     eccfc0\n",
              "2   IMG_0003     f3d4c1\n",
              "3   IMG_0004     f7ddc4\n",
              "4   IMG_0005     dfbda9\n",
              "5   IMG_0006     e3b3a1\n",
              "6   IMG_0007     e4bea8\n",
              "7   IMG_0008     e7bca0\n",
              "8   IMG_0009     e5b59a\n",
              "9   IMG_0010     d4a283"
            ],
            "text/html": [
              "\n",
              "  <div id=\"df-3483d3d3-9145-47bf-a8f9-22e446883b86\">\n",
              "    <div class=\"colab-df-container\">\n",
              "      <div>\n",
              "<style scoped>\n",
              "    .dataframe tbody tr th:only-of-type {\n",
              "        vertical-align: middle;\n",
              "    }\n",
              "\n",
              "    .dataframe tbody tr th {\n",
              "        vertical-align: top;\n",
              "    }\n",
              "\n",
              "    .dataframe thead th {\n",
              "        text-align: right;\n",
              "    }\n",
              "</style>\n",
              "<table border=\"1\" class=\"dataframe\">\n",
              "  <thead>\n",
              "    <tr style=\"text-align: right;\">\n",
              "      <th></th>\n",
              "      <th>image_name</th>\n",
              "      <th>skin_color</th>\n",
              "    </tr>\n",
              "  </thead>\n",
              "  <tbody>\n",
              "    <tr>\n",
              "      <th>0</th>\n",
              "      <td>IMG_0001</td>\n",
              "      <td>e7cfc7</td>\n",
              "    </tr>\n",
              "    <tr>\n",
              "      <th>1</th>\n",
              "      <td>IMG_0002</td>\n",
              "      <td>eccfc0</td>\n",
              "    </tr>\n",
              "    <tr>\n",
              "      <th>2</th>\n",
              "      <td>IMG_0003</td>\n",
              "      <td>f3d4c1</td>\n",
              "    </tr>\n",
              "    <tr>\n",
              "      <th>3</th>\n",
              "      <td>IMG_0004</td>\n",
              "      <td>f7ddc4</td>\n",
              "    </tr>\n",
              "    <tr>\n",
              "      <th>4</th>\n",
              "      <td>IMG_0005</td>\n",
              "      <td>dfbda9</td>\n",
              "    </tr>\n",
              "    <tr>\n",
              "      <th>5</th>\n",
              "      <td>IMG_0006</td>\n",
              "      <td>e3b3a1</td>\n",
              "    </tr>\n",
              "    <tr>\n",
              "      <th>6</th>\n",
              "      <td>IMG_0007</td>\n",
              "      <td>e4bea8</td>\n",
              "    </tr>\n",
              "    <tr>\n",
              "      <th>7</th>\n",
              "      <td>IMG_0008</td>\n",
              "      <td>e7bca0</td>\n",
              "    </tr>\n",
              "    <tr>\n",
              "      <th>8</th>\n",
              "      <td>IMG_0009</td>\n",
              "      <td>e5b59a</td>\n",
              "    </tr>\n",
              "    <tr>\n",
              "      <th>9</th>\n",
              "      <td>IMG_0010</td>\n",
              "      <td>d4a283</td>\n",
              "    </tr>\n",
              "  </tbody>\n",
              "</table>\n",
              "</div>\n",
              "      <button class=\"colab-df-convert\" onclick=\"convertToInteractive('df-3483d3d3-9145-47bf-a8f9-22e446883b86')\"\n",
              "              title=\"Convert this dataframe to an interactive table.\"\n",
              "              style=\"display:none;\">\n",
              "        \n",
              "  <svg xmlns=\"http://www.w3.org/2000/svg\" height=\"24px\"viewBox=\"0 0 24 24\"\n",
              "       width=\"24px\">\n",
              "    <path d=\"M0 0h24v24H0V0z\" fill=\"none\"/>\n",
              "    <path d=\"M18.56 5.44l.94 2.06.94-2.06 2.06-.94-2.06-.94-.94-2.06-.94 2.06-2.06.94zm-11 1L8.5 8.5l.94-2.06 2.06-.94-2.06-.94L8.5 2.5l-.94 2.06-2.06.94zm10 10l.94 2.06.94-2.06 2.06-.94-2.06-.94-.94-2.06-.94 2.06-2.06.94z\"/><path d=\"M17.41 7.96l-1.37-1.37c-.4-.4-.92-.59-1.43-.59-.52 0-1.04.2-1.43.59L10.3 9.45l-7.72 7.72c-.78.78-.78 2.05 0 2.83L4 21.41c.39.39.9.59 1.41.59.51 0 1.02-.2 1.41-.59l7.78-7.78 2.81-2.81c.8-.78.8-2.07 0-2.86zM5.41 20L4 18.59l7.72-7.72 1.47 1.35L5.41 20z\"/>\n",
              "  </svg>\n",
              "      </button>\n",
              "      \n",
              "  <style>\n",
              "    .colab-df-container {\n",
              "      display:flex;\n",
              "      flex-wrap:wrap;\n",
              "      gap: 12px;\n",
              "    }\n",
              "\n",
              "    .colab-df-convert {\n",
              "      background-color: #E8F0FE;\n",
              "      border: none;\n",
              "      border-radius: 50%;\n",
              "      cursor: pointer;\n",
              "      display: none;\n",
              "      fill: #1967D2;\n",
              "      height: 32px;\n",
              "      padding: 0 0 0 0;\n",
              "      width: 32px;\n",
              "    }\n",
              "\n",
              "    .colab-df-convert:hover {\n",
              "      background-color: #E2EBFA;\n",
              "      box-shadow: 0px 1px 2px rgba(60, 64, 67, 0.3), 0px 1px 3px 1px rgba(60, 64, 67, 0.15);\n",
              "      fill: #174EA6;\n",
              "    }\n",
              "\n",
              "    [theme=dark] .colab-df-convert {\n",
              "      background-color: #3B4455;\n",
              "      fill: #D2E3FC;\n",
              "    }\n",
              "\n",
              "    [theme=dark] .colab-df-convert:hover {\n",
              "      background-color: #434B5C;\n",
              "      box-shadow: 0px 1px 3px 1px rgba(0, 0, 0, 0.15);\n",
              "      filter: drop-shadow(0px 1px 2px rgba(0, 0, 0, 0.3));\n",
              "      fill: #FFFFFF;\n",
              "    }\n",
              "  </style>\n",
              "\n",
              "      <script>\n",
              "        const buttonEl =\n",
              "          document.querySelector('#df-3483d3d3-9145-47bf-a8f9-22e446883b86 button.colab-df-convert');\n",
              "        buttonEl.style.display =\n",
              "          google.colab.kernel.accessAllowed ? 'block' : 'none';\n",
              "\n",
              "        async function convertToInteractive(key) {\n",
              "          const element = document.querySelector('#df-3483d3d3-9145-47bf-a8f9-22e446883b86');\n",
              "          const dataTable =\n",
              "            await google.colab.kernel.invokeFunction('convertToInteractive',\n",
              "                                                     [key], {});\n",
              "          if (!dataTable) return;\n",
              "\n",
              "          const docLinkHtml = 'Like what you see? Visit the ' +\n",
              "            '<a target=\"_blank\" href=https://colab.research.google.com/notebooks/data_table.ipynb>data table notebook</a>'\n",
              "            + ' to learn more about interactive tables.';\n",
              "          element.innerHTML = '';\n",
              "          dataTable['output_type'] = 'display_data';\n",
              "          await google.colab.output.renderOutput(dataTable, element);\n",
              "          const docLink = document.createElement('div');\n",
              "          docLink.innerHTML = docLinkHtml;\n",
              "          element.appendChild(docLink);\n",
              "        }\n",
              "      </script>\n",
              "    </div>\n",
              "  </div>\n",
              "  "
            ]
          },
          "metadata": {},
          "execution_count": 17
        }
      ]
    },
    {
      "cell_type": "markdown",
      "source": [
        "### a. Converting Hexadecimal Color Codes to Decimals for Ease"
      ],
      "metadata": {
        "id": "zJmuDW2JZfVF"
      }
    },
    {
      "cell_type": "code",
      "source": [
        "x = int(\"e9d7cf\",16)\n",
        "print(x)"
      ],
      "metadata": {
        "colab": {
          "base_uri": "https://localhost:8080/"
        },
        "id": "4GeFGMVIa33Y",
        "outputId": "0a1d4fe9-d560-45f2-c4aa-e592e776fd9b"
      },
      "execution_count": 25,
      "outputs": [
        {
          "output_type": "stream",
          "name": "stdout",
          "text": [
            "15325135\n"
          ]
        }
      ]
    },
    {
      "cell_type": "markdown",
      "source": [
        "Given time and experience constraints, we would ideally convert each hexadecimal color code in the training data to a decimal."
      ],
      "metadata": {
        "id": "Q43360j2aIrq"
      }
    },
    {
      "cell_type": "markdown",
      "source": [
        "### b. Defining the 12 Seasons with Color Ranges"
      ],
      "metadata": {
        "id": "por764bkVol1"
      }
    },
    {
      "cell_type": "markdown",
      "source": [
        "From the decimal outputs, we would then define the range of skin tones that make up each of the 12 seasons."
      ],
      "metadata": {
        "id": "xc2lc6H8cWbW"
      }
    },
    {
      "cell_type": "markdown",
      "source": [
        "### c. Defining Product Recommendation Color Palettes"
      ],
      "metadata": {
        "id": "hJJqmR6ef5Ha"
      }
    },
    {
      "cell_type": "markdown",
      "source": [
        "Based on the colors that Aritzia's clothing uses, we would define each color palette as a range of colors converted from hexadecimal codes into decimals."
      ],
      "metadata": {
        "id": "U3sJT3o_gG5t"
      }
    },
    {
      "cell_type": "markdown",
      "source": [
        "### d. Build and Train Convolution Neural Networks"
      ],
      "metadata": {
        "id": "g7Iw2SBogoFj"
      }
    },
    {
      "cell_type": "markdown",
      "source": [
        "After defining all variables, we would go on to train a convolution neural network that would be able to classify a customer's personalized season based on their skin tone.\n",
        "\n",
        "Another convolution neural network would also be needed to classify a customer's product recommendations using color palettes based on their personalized season."
      ],
      "metadata": {
        "id": "o5NYqjWYhF8K"
      }
    },
    {
      "cell_type": "markdown",
      "source": [
        "Finally, we would use the final trained model to predict on the test dataset. We would also calculate both the in-sample and out-of-sample/validation accuracies. "
      ],
      "metadata": {
        "id": "U1jueU1riSk5"
      }
    }
  ]
}